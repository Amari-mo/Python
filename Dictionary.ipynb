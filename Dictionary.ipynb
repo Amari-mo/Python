{
 "cells": [
  {
   "cell_type": "code",
   "execution_count": 8,
   "id": "a8a347e5-b46b-45bc-b5cf-59ff0a427f12",
   "metadata": {},
   "outputs": [],
   "source": [
    "my_dictionary={\"name\": \"person 1\", \"age\": 35, \"Salary\": 400}"
   ]
  },
  {
   "cell_type": "code",
   "execution_count": 9,
   "id": "524b0619-77f5-4011-b18a-fccba629005e",
   "metadata": {},
   "outputs": [
    {
     "name": "stdout",
     "output_type": "stream",
     "text": [
      "{'name': 'person 1', 'age': 35, 'Salary': 400}\n"
     ]
    }
   ],
   "source": [
    "print(my_dictionary)"
   ]
  },
  {
   "cell_type": "code",
   "execution_count": 27,
   "id": "9023ecd8-ce91-4816-bb23-24f22a0a23d3",
   "metadata": {},
   "outputs": [],
   "source": [
    "my_dictionary={ \"name\":[\"person 1\", \"person 2\", \"person 3\", \"person 4\",\"person 5\"],\n",
    "     \"age\":[45,30,60,40,38],\n",
    "\"salary\":[300,400,700,500,600]}"
   ]
  },
  {
   "cell_type": "code",
   "execution_count": 38,
   "id": "8c37d1f3-eb5b-4056-b3c3-4448ee02d466",
   "metadata": {},
   "outputs": [],
   "source": [
    "my_dictionary[\"Location\"]:[\"Mombasa\", \"Nairobi\", \"Kisumu\", \"Narok\",\"Webuye\"]"
   ]
  },
  {
   "cell_type": "code",
   "execution_count": 37,
   "id": "10db4078-9aa5-45ea-bf97-5da15a5bd7cf",
   "metadata": {},
   "outputs": [
    {
     "data": {
      "text/plain": [
       "{'name': ['person 1', 'person 2', 'person 3', 'person 4', 'person 5'],\n",
       " 'age': [45, 30, 60, 40, 38],\n",
       " 'salary': [300, 400, 700, 500, 600]}"
      ]
     },
     "execution_count": 37,
     "metadata": {},
     "output_type": "execute_result"
    }
   ],
   "source": [
    "my_dictionary"
   ]
  },
  {
   "cell_type": "code",
   "execution_count": 45,
   "id": "fbe6539f-49ef-441a-ba34-69a721c1477b",
   "metadata": {},
   "outputs": [],
   "source": [
    "my_dictionary[\"Location\"]=[\"Mombasa\", \"Nairobi\", \"Kisumu\", \"Narok\",\"Webuye\"]\n"
   ]
  },
  {
   "cell_type": "code",
   "execution_count": 43,
   "id": "0078fc0f-0dd2-426a-8f6f-5b9c92a892ea",
   "metadata": {},
   "outputs": [
    {
     "data": {
      "text/plain": [
       "{'name': ['person 1', 'person 2', 'person 3', 'person 4', 'person 5'],\n",
       " 'age': [45, 30, 60, 40, 38],\n",
       " 'salary': [300, 400, 700, 500, 600]}"
      ]
     },
     "execution_count": 43,
     "metadata": {},
     "output_type": "execute_result"
    }
   ],
   "source": [
    "my_dictionary"
   ]
  },
  {
   "cell_type": "code",
   "execution_count": 44,
   "id": "4132a0e8-14c4-404d-939c-09bf7c05128e",
   "metadata": {},
   "outputs": [
    {
     "name": "stdout",
     "output_type": "stream",
     "text": [
      "name ['person 1', 'person 2', 'person 3', 'person 4', 'person 5']\n",
      "age [45, 30, 60, 40, 38]\n",
      "salary [300, 400, 700, 500, 600]\n"
     ]
    }
   ],
   "source": [
    "for key, value in my_dictionary.items():\n",
    "    print(key, value)"
   ]
  },
  {
   "cell_type": "code",
   "execution_count": 48,
   "id": "341311be-75fb-4d11-a91c-c01cfc78ab50",
   "metadata": {},
   "outputs": [],
   "source": [
    "import pandas as pd"
   ]
  },
  {
   "cell_type": "code",
   "execution_count": 49,
   "id": "9abf837d-92ba-4fe2-b851-9689c6aba26f",
   "metadata": {},
   "outputs": [
    {
     "data": {
      "text/plain": [
       "{'name': ['person 1', 'person 2', 'person 3', 'person 4', 'person 5'],\n",
       " 'age': [45, 30, 60, 40, 38],\n",
       " 'salary': [300, 400, 700, 500, 600],\n",
       " 'Location': ['Mombasa', 'Nairobi', 'Kisumu', 'Narok', 'Webuye']}"
      ]
     },
     "execution_count": 49,
     "metadata": {},
     "output_type": "execute_result"
    }
   ],
   "source": [
    "my_dictionary"
   ]
  },
  {
   "cell_type": "code",
   "execution_count": 52,
   "id": "db41e98f-5d7b-4e8d-92c8-3a53fdfa1896",
   "metadata": {},
   "outputs": [],
   "source": [
    "df = pd.DataFrame(my_dictionary)"
   ]
  },
  {
   "cell_type": "code",
   "execution_count": 53,
   "id": "1564f6d6-65e9-4308-a813-9c5af2eb1feb",
   "metadata": {},
   "outputs": [
    {
     "data": {
      "text/html": [
       "<div>\n",
       "<style scoped>\n",
       "    .dataframe tbody tr th:only-of-type {\n",
       "        vertical-align: middle;\n",
       "    }\n",
       "\n",
       "    .dataframe tbody tr th {\n",
       "        vertical-align: top;\n",
       "    }\n",
       "\n",
       "    .dataframe thead th {\n",
       "        text-align: right;\n",
       "    }\n",
       "</style>\n",
       "<table border=\"1\" class=\"dataframe\">\n",
       "  <thead>\n",
       "    <tr style=\"text-align: right;\">\n",
       "      <th></th>\n",
       "      <th>name</th>\n",
       "      <th>age</th>\n",
       "      <th>salary</th>\n",
       "      <th>Location</th>\n",
       "    </tr>\n",
       "  </thead>\n",
       "  <tbody>\n",
       "    <tr>\n",
       "      <th>0</th>\n",
       "      <td>person 1</td>\n",
       "      <td>45</td>\n",
       "      <td>300</td>\n",
       "      <td>Mombasa</td>\n",
       "    </tr>\n",
       "    <tr>\n",
       "      <th>1</th>\n",
       "      <td>person 2</td>\n",
       "      <td>30</td>\n",
       "      <td>400</td>\n",
       "      <td>Nairobi</td>\n",
       "    </tr>\n",
       "    <tr>\n",
       "      <th>2</th>\n",
       "      <td>person 3</td>\n",
       "      <td>60</td>\n",
       "      <td>700</td>\n",
       "      <td>Kisumu</td>\n",
       "    </tr>\n",
       "    <tr>\n",
       "      <th>3</th>\n",
       "      <td>person 4</td>\n",
       "      <td>40</td>\n",
       "      <td>500</td>\n",
       "      <td>Narok</td>\n",
       "    </tr>\n",
       "    <tr>\n",
       "      <th>4</th>\n",
       "      <td>person 5</td>\n",
       "      <td>38</td>\n",
       "      <td>600</td>\n",
       "      <td>Webuye</td>\n",
       "    </tr>\n",
       "  </tbody>\n",
       "</table>\n",
       "</div>"
      ],
      "text/plain": [
       "       name  age  salary Location\n",
       "0  person 1   45     300  Mombasa\n",
       "1  person 2   30     400  Nairobi\n",
       "2  person 3   60     700   Kisumu\n",
       "3  person 4   40     500    Narok\n",
       "4  person 5   38     600   Webuye"
      ]
     },
     "execution_count": 53,
     "metadata": {},
     "output_type": "execute_result"
    }
   ],
   "source": [
    "df"
   ]
  },
  {
   "cell_type": "code",
   "execution_count": 54,
   "id": "698c1a6a-5b03-432b-9f51-517d76c97f1b",
   "metadata": {},
   "outputs": [
    {
     "data": {
      "text/plain": [
       "0    person 1\n",
       "1    person 2\n",
       "2    person 3\n",
       "3    person 4\n",
       "4    person 5\n",
       "Name: name, dtype: object"
      ]
     },
     "execution_count": 54,
     "metadata": {},
     "output_type": "execute_result"
    }
   ],
   "source": [
    "df[\"name\"]"
   ]
  },
  {
   "cell_type": "code",
   "execution_count": 58,
   "id": "99d267f0-09da-49b0-af48-fa938d876214",
   "metadata": {},
   "outputs": [
    {
     "data": {
      "text/html": [
       "<div>\n",
       "<style scoped>\n",
       "    .dataframe tbody tr th:only-of-type {\n",
       "        vertical-align: middle;\n",
       "    }\n",
       "\n",
       "    .dataframe tbody tr th {\n",
       "        vertical-align: top;\n",
       "    }\n",
       "\n",
       "    .dataframe thead th {\n",
       "        text-align: right;\n",
       "    }\n",
       "</style>\n",
       "<table border=\"1\" class=\"dataframe\">\n",
       "  <thead>\n",
       "    <tr style=\"text-align: right;\">\n",
       "      <th></th>\n",
       "      <th>name</th>\n",
       "      <th>Location</th>\n",
       "    </tr>\n",
       "  </thead>\n",
       "  <tbody>\n",
       "    <tr>\n",
       "      <th>0</th>\n",
       "      <td>person 1</td>\n",
       "      <td>Mombasa</td>\n",
       "    </tr>\n",
       "    <tr>\n",
       "      <th>1</th>\n",
       "      <td>person 2</td>\n",
       "      <td>Nairobi</td>\n",
       "    </tr>\n",
       "    <tr>\n",
       "      <th>2</th>\n",
       "      <td>person 3</td>\n",
       "      <td>Kisumu</td>\n",
       "    </tr>\n",
       "    <tr>\n",
       "      <th>3</th>\n",
       "      <td>person 4</td>\n",
       "      <td>Narok</td>\n",
       "    </tr>\n",
       "    <tr>\n",
       "      <th>4</th>\n",
       "      <td>person 5</td>\n",
       "      <td>Webuye</td>\n",
       "    </tr>\n",
       "  </tbody>\n",
       "</table>\n",
       "</div>"
      ],
      "text/plain": [
       "       name Location\n",
       "0  person 1  Mombasa\n",
       "1  person 2  Nairobi\n",
       "2  person 3   Kisumu\n",
       "3  person 4    Narok\n",
       "4  person 5   Webuye"
      ]
     },
     "execution_count": 58,
     "metadata": {},
     "output_type": "execute_result"
    }
   ],
   "source": [
    "df[[\"name\",\"Location\"]]"
   ]
  },
  {
   "cell_type": "code",
   "execution_count": 61,
   "id": "aa6d7742-98c2-4121-a45e-9b8eea966c68",
   "metadata": {},
   "outputs": [
    {
     "data": {
      "text/plain": [
       "0    46\n",
       "1    31\n",
       "2    61\n",
       "3    41\n",
       "4    39\n",
       "Name: age, dtype: int64"
      ]
     },
     "execution_count": 61,
     "metadata": {},
     "output_type": "execute_result"
    }
   ],
   "source": [
    "df[\"age\"]+1"
   ]
  },
  {
   "cell_type": "code",
   "execution_count": null,
   "id": "550aef8b-11a0-4a5c-b940-d4bd92f56c47",
   "metadata": {},
   "outputs": [],
   "source": []
  },
  {
   "cell_type": "code",
   "execution_count": 62,
   "id": "863ed5e2-80c6-4f4e-a0d1-16058c9a29a5",
   "metadata": {},
   "outputs": [
    {
     "data": {
      "text/plain": [
       "name        object\n",
       "age          int64\n",
       "salary       int64\n",
       "Location    object\n",
       "dtype: object"
      ]
     },
     "execution_count": 62,
     "metadata": {},
     "output_type": "execute_result"
    }
   ],
   "source": [
    "df.dtypes"
   ]
  },
  {
   "cell_type": "code",
   "execution_count": 70,
   "id": "ce511891-f42b-42d1-b093-1736a8ac7f1e",
   "metadata": {},
   "outputs": [],
   "source": [
    "df[\"age\"]=df[\"age\"]+1"
   ]
  },
  {
   "cell_type": "code",
   "execution_count": 73,
   "id": "81bdd7ae-cc21-453a-b7d0-2bf2caecaad3",
   "metadata": {},
   "outputs": [
    {
     "data": {
      "text/html": [
       "<div>\n",
       "<style scoped>\n",
       "    .dataframe tbody tr th:only-of-type {\n",
       "        vertical-align: middle;\n",
       "    }\n",
       "\n",
       "    .dataframe tbody tr th {\n",
       "        vertical-align: top;\n",
       "    }\n",
       "\n",
       "    .dataframe thead th {\n",
       "        text-align: right;\n",
       "    }\n",
       "</style>\n",
       "<table border=\"1\" class=\"dataframe\">\n",
       "  <thead>\n",
       "    <tr style=\"text-align: right;\">\n",
       "      <th></th>\n",
       "      <th>name</th>\n",
       "      <th>age</th>\n",
       "      <th>salary</th>\n",
       "      <th>Location</th>\n",
       "    </tr>\n",
       "  </thead>\n",
       "  <tbody>\n",
       "    <tr>\n",
       "      <th>0</th>\n",
       "      <td>person 1</td>\n",
       "      <td>48</td>\n",
       "      <td>1300</td>\n",
       "      <td>Mombasa</td>\n",
       "    </tr>\n",
       "    <tr>\n",
       "      <th>1</th>\n",
       "      <td>person 2</td>\n",
       "      <td>33</td>\n",
       "      <td>1400</td>\n",
       "      <td>Nairobi</td>\n",
       "    </tr>\n",
       "    <tr>\n",
       "      <th>2</th>\n",
       "      <td>person 3</td>\n",
       "      <td>63</td>\n",
       "      <td>1700</td>\n",
       "      <td>Kisumu</td>\n",
       "    </tr>\n",
       "    <tr>\n",
       "      <th>3</th>\n",
       "      <td>person 4</td>\n",
       "      <td>43</td>\n",
       "      <td>1500</td>\n",
       "      <td>Narok</td>\n",
       "    </tr>\n",
       "    <tr>\n",
       "      <th>4</th>\n",
       "      <td>person 5</td>\n",
       "      <td>41</td>\n",
       "      <td>1600</td>\n",
       "      <td>Webuye</td>\n",
       "    </tr>\n",
       "  </tbody>\n",
       "</table>\n",
       "</div>"
      ],
      "text/plain": [
       "       name  age  salary Location\n",
       "0  person 1   48    1300  Mombasa\n",
       "1  person 2   33    1400  Nairobi\n",
       "2  person 3   63    1700   Kisumu\n",
       "3  person 4   43    1500    Narok\n",
       "4  person 5   41    1600   Webuye"
      ]
     },
     "execution_count": 73,
     "metadata": {},
     "output_type": "execute_result"
    }
   ],
   "source": [
    "df"
   ]
  },
  {
   "cell_type": "code",
   "execution_count": 72,
   "id": "b11d3f16-eebd-498b-9ac1-6024c464799b",
   "metadata": {},
   "outputs": [],
   "source": [
    "df[\"age\"],df[\"salary\"]=df[\"age\"]+1,df[\"salary\"]+500"
   ]
  },
  {
   "cell_type": "code",
   "execution_count": 69,
   "id": "cff1da00-3fa8-416f-8010-463944b51633",
   "metadata": {},
   "outputs": [
    {
     "data": {
      "text/html": [
       "<div>\n",
       "<style scoped>\n",
       "    .dataframe tbody tr th:only-of-type {\n",
       "        vertical-align: middle;\n",
       "    }\n",
       "\n",
       "    .dataframe tbody tr th {\n",
       "        vertical-align: top;\n",
       "    }\n",
       "\n",
       "    .dataframe thead th {\n",
       "        text-align: right;\n",
       "    }\n",
       "</style>\n",
       "<table border=\"1\" class=\"dataframe\">\n",
       "  <thead>\n",
       "    <tr style=\"text-align: right;\">\n",
       "      <th></th>\n",
       "      <th>name</th>\n",
       "      <th>age</th>\n",
       "      <th>salary</th>\n",
       "      <th>Location</th>\n",
       "    </tr>\n",
       "  </thead>\n",
       "  <tbody>\n",
       "    <tr>\n",
       "      <th>0</th>\n",
       "      <td>person 1</td>\n",
       "      <td>46</td>\n",
       "      <td>800</td>\n",
       "      <td>Mombasa</td>\n",
       "    </tr>\n",
       "    <tr>\n",
       "      <th>1</th>\n",
       "      <td>person 2</td>\n",
       "      <td>31</td>\n",
       "      <td>900</td>\n",
       "      <td>Nairobi</td>\n",
       "    </tr>\n",
       "    <tr>\n",
       "      <th>2</th>\n",
       "      <td>person 3</td>\n",
       "      <td>61</td>\n",
       "      <td>1200</td>\n",
       "      <td>Kisumu</td>\n",
       "    </tr>\n",
       "    <tr>\n",
       "      <th>3</th>\n",
       "      <td>person 4</td>\n",
       "      <td>41</td>\n",
       "      <td>1000</td>\n",
       "      <td>Narok</td>\n",
       "    </tr>\n",
       "    <tr>\n",
       "      <th>4</th>\n",
       "      <td>person 5</td>\n",
       "      <td>39</td>\n",
       "      <td>1100</td>\n",
       "      <td>Webuye</td>\n",
       "    </tr>\n",
       "  </tbody>\n",
       "</table>\n",
       "</div>"
      ],
      "text/plain": [
       "       name  age  salary Location\n",
       "0  person 1   46     800  Mombasa\n",
       "1  person 2   31     900  Nairobi\n",
       "2  person 3   61    1200   Kisumu\n",
       "3  person 4   41    1000    Narok\n",
       "4  person 5   39    1100   Webuye"
      ]
     },
     "execution_count": 69,
     "metadata": {},
     "output_type": "execute_result"
    }
   ],
   "source": [
    "df"
   ]
  },
  {
   "cell_type": "code",
   "execution_count": null,
   "id": "f9d9bf11-f02f-42d0-a56b-76ac8cafa245",
   "metadata": {},
   "outputs": [],
   "source": []
  },
  {
   "cell_type": "code",
   "execution_count": null,
   "id": "6e524128-5f37-48db-916b-4dd8ddc5fe90",
   "metadata": {},
   "outputs": [],
   "source": []
  }
 ],
 "metadata": {
  "kernelspec": {
   "display_name": "Python 3 (ipykernel)",
   "language": "python",
   "name": "python3"
  },
  "language_info": {
   "codemirror_mode": {
    "name": "ipython",
    "version": 3
   },
   "file_extension": ".py",
   "mimetype": "text/x-python",
   "name": "python",
   "nbconvert_exporter": "python",
   "pygments_lexer": "ipython3",
   "version": "3.12.4"
  }
 },
 "nbformat": 4,
 "nbformat_minor": 5
}
