{
 "cells": [
  {
   "cell_type": "code",
   "execution_count": 2,
   "id": "f74bd2d8-50cd-42cd-9457-10227e86f487",
   "metadata": {},
   "outputs": [],
   "source": [
    "def Family():\n",
    "    print(\"Family members\")"
   ]
  },
  {
   "cell_type": "code",
   "execution_count": 4,
   "id": "57af17c3-010f-40c1-be7e-2093d3a0e58d",
   "metadata": {
    "scrolled": true
   },
   "outputs": [
    {
     "name": "stdout",
     "output_type": "stream",
     "text": [
      "Family members\n"
     ]
    }
   ],
   "source": [
    "Family()"
   ]
  },
  {
   "cell_type": "code",
   "execution_count": 6,
   "id": "a3890d18-f939-43a6-9f26-0ffe87cf5676",
   "metadata": {},
   "outputs": [],
   "source": [
    "def GenZ():\n",
    "    print (\"Ruto must go\")"
   ]
  },
  {
   "cell_type": "code",
   "execution_count": 7,
   "id": "19a655e8-88d4-43b3-b531-e46b37e002b7",
   "metadata": {},
   "outputs": [
    {
     "name": "stdout",
     "output_type": "stream",
     "text": [
      "Ruto must go\n"
     ]
    }
   ],
   "source": [
    "GenZ()"
   ]
  },
  {
   "cell_type": "code",
   "execution_count": 15,
   "id": "fdf42a32-da58-4e8c-98f1-ea3d56040c03",
   "metadata": {},
   "outputs": [],
   "source": [
    "def add(a,b):\n",
    "    results =a+b\n",
    "    return(results)"
   ]
  },
  {
   "cell_type": "code",
   "execution_count": 16,
   "id": "82e5563f-c8f6-450e-808b-3551268da757",
   "metadata": {},
   "outputs": [],
   "source": [
    "x=add(6,6)"
   ]
  },
  {
   "cell_type": "code",
   "execution_count": 17,
   "id": "ad27a453-4b64-4809-98b7-5bd4b59b0aa4",
   "metadata": {},
   "outputs": [
    {
     "data": {
      "text/plain": [
       "12"
      ]
     },
     "execution_count": 17,
     "metadata": {},
     "output_type": "execute_result"
    }
   ],
   "source": [
    "x"
   ]
  },
  {
   "cell_type": "code",
   "execution_count": 19,
   "id": "78b2344a-1c8d-45e5-b61b-05466e7fa01e",
   "metadata": {},
   "outputs": [],
   "source": [
    "def bootcamp():\n",
    "    print (\"Data Analystics\")"
   ]
  },
  {
   "cell_type": "code",
   "execution_count": 20,
   "id": "1575d12c-9331-4f2e-ae84-3e47d165dee0",
   "metadata": {},
   "outputs": [
    {
     "name": "stdout",
     "output_type": "stream",
     "text": [
      "Data Analystics\n"
     ]
    }
   ],
   "source": [
    "bootcamp  ()"
   ]
  },
  {
   "cell_type": "code",
   "execution_count": 21,
   "id": "962e7518-f718-4fbb-b286-bc950acd83e1",
   "metadata": {},
   "outputs": [
    {
     "data": {
      "text/plain": [
       "60"
      ]
     },
     "execution_count": 21,
     "metadata": {},
     "output_type": "execute_result"
    }
   ],
   "source": [
    "max(6,7,60)"
   ]
  },
  {
   "cell_type": "code",
   "execution_count": 22,
   "id": "9d91e663-9cd5-4e3f-84c7-af5a609fa705",
   "metadata": {},
   "outputs": [
    {
     "data": {
      "text/plain": [
       "20"
      ]
     },
     "execution_count": 22,
     "metadata": {},
     "output_type": "execute_result"
    }
   ],
   "source": [
    "min(20,100,70)"
   ]
  },
  {
   "cell_type": "code",
   "execution_count": 23,
   "id": "608b2f6e-9d4d-4c9f-96eb-493f9f640749",
   "metadata": {},
   "outputs": [
    {
     "data": {
      "text/plain": [
       "5"
      ]
     },
     "execution_count": 23,
     "metadata": {},
     "output_type": "execute_result"
    }
   ],
   "source": [
    "len(\"Amari\")"
   ]
  },
  {
   "cell_type": "code",
   "execution_count": null,
   "id": "807cc8c0-b551-44be-a035-55648b3f50c8",
   "metadata": {},
   "outputs": [],
   "source": [
    "my_list=[1,2,3,4,5]\n",
    "print (my_list[])"
   ]
  },
  {
   "cell_type": "code",
   "execution_count": 24,
   "id": "59dccfd6-9d88-45b2-8e93-38a3e806bfae",
   "metadata": {},
   "outputs": [
    {
     "data": {
      "text/plain": [
       "'tomato'"
      ]
     },
     "execution_count": 24,
     "metadata": {},
     "output_type": "execute_result"
    }
   ],
   "source": [
    "grocery=[\"tomato\", \"wiu\", \"onions\"]\n",
    "grocery[0]"
   ]
  },
  {
   "cell_type": "code",
   "execution_count": 25,
   "id": "e1882ea8-0bf5-435d-9f08-a14e24834bdb",
   "metadata": {},
   "outputs": [
    {
     "data": {
      "text/plain": [
       "'wiu'"
      ]
     },
     "execution_count": 25,
     "metadata": {},
     "output_type": "execute_result"
    }
   ],
   "source": [
    "grocery=[\"tomato\", \"wiu\", \"onions\"]\n",
    "grocery[1]"
   ]
  },
  {
   "cell_type": "code",
   "execution_count": 26,
   "id": "e9c0673c-9dd8-427b-8314-f1da89202483",
   "metadata": {},
   "outputs": [],
   "source": [
    "grocery[2]=\"Kitungu\""
   ]
  },
  {
   "cell_type": "code",
   "execution_count": 35,
   "id": "369e2f41-e5e1-40f0-939e-5190c61872e0",
   "metadata": {},
   "outputs": [
    {
     "name": "stdout",
     "output_type": "stream",
     "text": [
      "['tomato', 'wiu', 'onions']\n"
     ]
    }
   ],
   "source": [
    "grocery=[\"tomato\", \"wiu\", \"onions\"]\n",
    "ind=2\n",
    "for item in grocery:\n",
    "    if item==\"onion\":\n",
    "        grocery[ind]=\"Kitungu\"\n",
    "        ind=ind+2\n",
    "print(grocery)"
   ]
  },
  {
   "cell_type": "code",
   "execution_count": 37,
   "id": "7e2cd822-c249-4c4e-8a2f-8b4a4e30dda2",
   "metadata": {},
   "outputs": [
    {
     "name": "stdout",
     "output_type": "stream",
     "text": [
      "['tomato', 'wiu', 'onions', 'cabbage']\n"
     ]
    }
   ],
   "source": [
    "grocery.append(\"cabbage\")\n",
    "print(grocery)"
   ]
  },
  {
   "cell_type": "code",
   "execution_count": 39,
   "id": "2571bab7-74df-45a4-a3b3-b19092ca1622",
   "metadata": {},
   "outputs": [
    {
     "data": {
      "text/plain": [
       "['tomato', 'wiu', 'onions', 'cabbage']"
      ]
     },
     "execution_count": 39,
     "metadata": {},
     "output_type": "execute_result"
    }
   ],
   "source": [
    "grocery.copy()\n"
   ]
  },
  {
   "cell_type": "code",
   "execution_count": null,
   "id": "72bb7b0c-ca7a-4d12-a6fc-aa013c54a94a",
   "metadata": {},
   "outputs": [],
   "source": []
  },
  {
   "cell_type": "code",
   "execution_count": null,
   "id": "6f4ce16c-7e11-4af9-a084-0fa413c477d3",
   "metadata": {},
   "outputs": [],
   "source": []
  },
  {
   "cell_type": "code",
   "execution_count": null,
   "id": "2db51435-cba4-4633-8f0c-e28cfe9f8e54",
   "metadata": {},
   "outputs": [],
   "source": []
  }
 ],
 "metadata": {
  "kernelspec": {
   "display_name": "Python 3 (ipykernel)",
   "language": "python",
   "name": "python3"
  },
  "language_info": {
   "codemirror_mode": {
    "name": "ipython",
    "version": 3
   },
   "file_extension": ".py",
   "mimetype": "text/x-python",
   "name": "python",
   "nbconvert_exporter": "python",
   "pygments_lexer": "ipython3",
   "version": "3.12.4"
  }
 },
 "nbformat": 4,
 "nbformat_minor": 5
}
